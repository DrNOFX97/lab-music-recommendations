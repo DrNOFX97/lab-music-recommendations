{
 "cells": [
  {
   "cell_type": "markdown",
   "metadata": {},
   "source": [
    "# **LAB I**"
   ]
  },
  {
   "cell_type": "code",
   "execution_count": 1,
   "metadata": {},
   "outputs": [],
   "source": [
    "import os\n",
    "import librosa\n",
    "import numpy as np\n",
    "from sklearn.metrics.pairwise import cosine_similarity\n",
    "import arff\n",
    "from IPython.display import Audio, display"
   ]
  },
  {
   "cell_type": "code",
   "execution_count": 2,
   "metadata": {},
   "outputs": [],
   "source": [
    "# Function to load an audio file\n",
    "def load_audio(file_path):\n",
    "    audio, sr = librosa.load(file_path, sr=None)\n",
    "    return audio, sr"
   ]
  },
  {
   "cell_type": "code",
   "execution_count": 3,
   "metadata": {},
   "outputs": [],
   "source": [
    "# Function to extract features from an audio file\n",
    "def extract_features(audio, sr):\n",
    "    # Extract MFCC (Mel-Frequency Cepstral Coefficients)\n",
    "    mfcc = librosa.feature.mfcc(y=audio, sr=sr, n_mfcc=13)\n",
    "    mfcc_mean = np.mean(mfcc, axis=1)\n",
    "    \n",
    "    # Extract Spectral Centroid\n",
    "    centroid = librosa.feature.spectral_centroid(y=audio, sr=sr)\n",
    "    centroid_mean = np.mean(centroid)\n",
    "    \n",
    "    # Extract Chroma Features\n",
    "    chroma = librosa.feature.chroma_stft(y=audio, sr=sr)\n",
    "    chroma_mean = np.mean(chroma, axis=1)\n",
    "    \n",
    "    # Combine all features into a single vector\n",
    "    return np.concatenate([mfcc_mean, [centroid_mean], chroma_mean])"
   ]
  },
  {
   "cell_type": "code",
   "execution_count": 4,
   "metadata": {},
   "outputs": [],
   "source": [
    "# Function to load an ARFF file\n",
    "def load_arff(file_path):\n",
    "    try:\n",
    "        with open(file_path, 'r') as f:\n",
    "            data = arff.load(f)\n",
    "        return data\n",
    "    except Exception as e:\n",
    "        print(f\"Error reading ARFF file {file_path}: {e}\")\n",
    "        with open(file_path, 'r') as f:\n",
    "            print(\"First few lines of the file:\")\n",
    "            print(''.join(f.readlines()[:10]))  # Print first 10 lines\n",
    "        return None"
   ]
  },
  {
   "cell_type": "code",
   "execution_count": 5,
   "metadata": {},
   "outputs": [],
   "source": [
    "# Function to process a single track\n",
    "def process_track(track_id, dataset_path):\n",
    "    # Define paths to the mix and annotation files\n",
    "    mix_path = os.path.join(dataset_path, 'audio-mixes-mp3', f'{track_id}_mix.mp3')\n",
    "    beatinfo_path = os.path.join(dataset_path, 'annotations', f'{track_id}_beatinfo.arff')\n",
    "    onsets_path = os.path.join(dataset_path, 'annotations', f'{track_id}_onsets.arff')\n",
    "    segments_path = os.path.join(dataset_path, 'annotations', f'{track_id}_segments.arff')\n",
    "    \n",
    "    # Load audio and extract features\n",
    "    audio, sr = load_audio(mix_path)\n",
    "    features = extract_features(audio, sr)\n",
    "    \n",
    "    # Load additional annotations\n",
    "    beatinfo = load_arff(beatinfo_path)\n",
    "    onsets = load_arff(onsets_path)\n",
    "    segments = load_arff(segments_path)\n",
    "    \n",
    "    # Return a dictionary with all track data\n",
    "    return {\n",
    "        'id': track_id,\n",
    "        'title': f\"Track {track_id}\",  # Simulated title\n",
    "        'features': features,\n",
    "        'beatinfo': beatinfo,\n",
    "        'onsets': onsets,\n",
    "        'segments': segments,\n",
    "        'mix_path': mix_path  # Path to the audio mix for playback\n",
    "    }"
   ]
  },
  {
   "cell_type": "code",
   "execution_count": 6,
   "metadata": {},
   "outputs": [],
   "source": [
    "# Function to process the dataset\n",
    "def process_dataset(dataset_path, max_tracks=20):\n",
    "    tracks = []\n",
    "    mix_files = os.listdir(os.path.join(dataset_path, 'audio-mixes-mp3'))\n",
    "    for filename in mix_files:\n",
    "        if filename.endswith('_mix.mp3'):\n",
    "            track_id = filename[:4]  # Extract the 4-digit track ID\n",
    "            try:\n",
    "                track = process_track(track_id, dataset_path)\n",
    "                if all(v is not None for v in track.values()):\n",
    "                    tracks.append(track)\n",
    "                if len(tracks) >= max_tracks:\n",
    "                    break\n",
    "            except Exception as e:\n",
    "                print(f\"Error processing track {track_id}: {e}\")\n",
    "    return tracks"
   ]
  },
  {
   "cell_type": "code",
   "execution_count": 7,
   "metadata": {},
   "outputs": [],
   "source": [
    "# Function to find a track by ID\n",
    "def get_track_by_id(tracks, query_id):\n",
    "    for track in tracks:\n",
    "        if track['id'] == query_id:\n",
    "            return track\n",
    "    return None"
   ]
  },
  {
   "cell_type": "code",
   "execution_count": 8,
   "metadata": {},
   "outputs": [],
   "source": [
    "# Function to recommend similar tracks based on features\n",
    "def recommend_tracks(query_track, tracks, top_n=5):\n",
    "    query_features = query_track['features'].reshape(1, -1)\n",
    "    similarities = []\n",
    "    for track in tracks:\n",
    "        if track['id'] != query_track['id']:  # Skip the same track\n",
    "            track_features = track['features'].reshape(1, -1)\n",
    "            similarity = cosine_similarity(query_features, track_features)[0][0]\n",
    "            similarities.append((track, similarity))\n",
    "    \n",
    "    # Sort by similarity score in descending order and return top N recommendations\n",
    "    similarities.sort(key=lambda x: x[1], reverse=True)\n",
    "    return similarities[:top_n]"
   ]
  },
  {
   "cell_type": "code",
   "execution_count": 9,
   "metadata": {},
   "outputs": [],
   "source": [
    "# Function to play an audio track\n",
    "def play_track(file_path):\n",
    "    try:\n",
    "        audio, sr = librosa.load(file_path, sr=None)\n",
    "        display(Audio(audio, rate=sr))\n",
    "    except Exception as e:\n",
    "        print(f\"Error playing audio file {file_path}: {e}\")"
   ]
  },
  {
   "cell_type": "code",
   "execution_count": 10,
   "metadata": {},
   "outputs": [],
   "source": [
    "# Main user interface function\n",
    "def user_interface(tracks):\n",
    "    print(\"Welcome to the Music Recommendation System!\")\n",
    "    print(\"Available tracks:\", ', '.join([track['id'] for track in tracks]))\n",
    "    \n",
    "    while True:\n",
    "        query_id = input(\"Enter a track ID to get recommendations (or 'q' to quit): \")\n",
    "        if query_id.lower() == 'q':\n",
    "            break\n",
    "        \n",
    "        query_track = get_track_by_id(tracks, query_id)\n",
    "        \n",
    "        if query_track:\n",
    "            print(f\"\\nPlaying track '{query_track['id']}' - {query_track['title']}...\")\n",
    "            play_track(query_track['mix_path'])  # Play the selected track\n",
    "            \n",
    "            recommendations = recommend_tracks(query_track, tracks)\n",
    "            print(\"\\nRecommendations:\")\n",
    "            for recommended_track, similarity in recommendations:\n",
    "                print(f\"Track ID: {recommended_track['id']}, Similarity: {similarity:.4f}\")\n",
    "                print(f\"Playing recommendation '{recommended_track['id']}' - {recommended_track['title']}...\")\n",
    "                play_track(recommended_track['mix_path'])  # Play the recommended track\n",
    "                print()  # Add a blank line between recommendations\n",
    "        else:\n",
    "            print(\"Invalid track ID. Please try again.\")"
   ]
  },
  {
   "cell_type": "code",
   "execution_count": 11,
   "metadata": {},
   "outputs": [
    {
     "name": "stdout",
     "output_type": "stream",
     "text": [
      "Successfully processed 20 tracks\n"
     ]
    }
   ],
   "source": [
    "# Example usage\n",
    "dataset_path = './data/tinyAAM'\n",
    "processed_tracks = process_dataset(dataset_path)\n",
    "print(f\"Successfully processed {len(processed_tracks)} tracks\")"
   ]
  },
  {
   "cell_type": "code",
   "execution_count": 12,
   "metadata": {},
   "outputs": [],
   "source": [
    "# Run the user interface\n",
    "# user_interface(processed_tracks)"
   ]
  },
  {
   "cell_type": "markdown",
   "metadata": {},
   "source": [
    "### ***I had to comment out the last cell result because it loaded widjets that made to file too big for GitHub***\n",
    "\n",
    "But you can run it..."
   ]
  }
 ],
 "metadata": {
  "accelerator": "GPU",
  "colab": {
   "collapsed_sections": [],
   "provenance": []
  },
  "kernelspec": {
   "display_name": "Python 3 (ipykernel)",
   "language": "python",
   "name": "python3"
  },
  "language_info": {
   "codemirror_mode": {
    "name": "ipython",
    "version": 3
   },
   "file_extension": ".py",
   "mimetype": "text/x-python",
   "name": "python",
   "nbconvert_exporter": "python",
   "pygments_lexer": "ipython3",
   "version": "3.12.2"
  },
  "vscode": {
   "interpreter": {
    "hash": "b0fa6594d8f4cbf19f97940f81e996739fb7646882a419484c72d19e05852a7e"
   }
  },
  "widgets": {
   "application/vnd.jupyter.widget-state+json": {
    "0b927de4df4b4f61bbb10721007fb4f8": {
     "model_module": "@jupyter-widgets/controls",
     "model_module_version": "1.5.0",
     "model_name": "FloatProgressModel",
     "state": {
      "_dom_classes": [],
      "_model_module": "@jupyter-widgets/controls",
      "_model_module_version": "1.5.0",
      "_model_name": "FloatProgressModel",
      "_view_count": null,
      "_view_module": "@jupyter-widgets/controls",
      "_view_module_version": "1.5.0",
      "_view_name": "ProgressView",
      "bar_style": "success",
      "description": "",
      "description_tooltip": null,
      "layout": "IPY_MODEL_0f3d7cc7013b4b3aa9ed394876004f7e",
      "max": 32,
      "min": 0,
      "orientation": "horizontal",
      "style": "IPY_MODEL_a0dc1d554f2c43869d3f399501d9c689",
      "value": 32
     }
    },
    "0f3d7cc7013b4b3aa9ed394876004f7e": {
     "model_module": "@jupyter-widgets/base",
     "model_module_version": "1.2.0",
     "model_name": "LayoutModel",
     "state": {
      "_model_module": "@jupyter-widgets/base",
      "_model_module_version": "1.2.0",
      "_model_name": "LayoutModel",
      "_view_count": null,
      "_view_module": "@jupyter-widgets/base",
      "_view_module_version": "1.2.0",
      "_view_name": "LayoutView",
      "align_content": null,
      "align_items": null,
      "align_self": null,
      "border": null,
      "bottom": null,
      "display": null,
      "flex": null,
      "flex_flow": null,
      "grid_area": null,
      "grid_auto_columns": null,
      "grid_auto_flow": null,
      "grid_auto_rows": null,
      "grid_column": null,
      "grid_gap": null,
      "grid_row": null,
      "grid_template_areas": null,
      "grid_template_columns": null,
      "grid_template_rows": null,
      "height": null,
      "justify_content": null,
      "justify_items": null,
      "left": null,
      "margin": null,
      "max_height": null,
      "max_width": null,
      "min_height": null,
      "min_width": null,
      "object_fit": null,
      "object_position": null,
      "order": null,
      "overflow": null,
      "overflow_x": null,
      "overflow_y": null,
      "padding": null,
      "right": null,
      "top": null,
      "visibility": null,
      "width": null
     }
    },
    "27c31780e6c24813a0450aa33605b81f": {
     "model_module": "@jupyter-widgets/base",
     "model_module_version": "1.2.0",
     "model_name": "LayoutModel",
     "state": {
      "_model_module": "@jupyter-widgets/base",
      "_model_module_version": "1.2.0",
      "_model_name": "LayoutModel",
      "_view_count": null,
      "_view_module": "@jupyter-widgets/base",
      "_view_module_version": "1.2.0",
      "_view_name": "LayoutView",
      "align_content": null,
      "align_items": null,
      "align_self": null,
      "border": null,
      "bottom": null,
      "display": null,
      "flex": null,
      "flex_flow": null,
      "grid_area": null,
      "grid_auto_columns": null,
      "grid_auto_flow": null,
      "grid_auto_rows": null,
      "grid_column": null,
      "grid_gap": null,
      "grid_row": null,
      "grid_template_areas": null,
      "grid_template_columns": null,
      "grid_template_rows": null,
      "height": null,
      "justify_content": null,
      "justify_items": null,
      "left": null,
      "margin": null,
      "max_height": null,
      "max_width": null,
      "min_height": null,
      "min_width": null,
      "object_fit": null,
      "object_position": null,
      "order": null,
      "overflow": null,
      "overflow_x": null,
      "overflow_y": null,
      "padding": null,
      "right": null,
      "top": null,
      "visibility": null,
      "width": null
     }
    },
    "5890090cbebe417dbac772b18440eaa5": {
     "model_module": "@jupyter-widgets/base",
     "model_module_version": "1.2.0",
     "model_name": "LayoutModel",
     "state": {
      "_model_module": "@jupyter-widgets/base",
      "_model_module_version": "1.2.0",
      "_model_name": "LayoutModel",
      "_view_count": null,
      "_view_module": "@jupyter-widgets/base",
      "_view_module_version": "1.2.0",
      "_view_name": "LayoutView",
      "align_content": null,
      "align_items": null,
      "align_self": null,
      "border": null,
      "bottom": null,
      "display": null,
      "flex": null,
      "flex_flow": null,
      "grid_area": null,
      "grid_auto_columns": null,
      "grid_auto_flow": null,
      "grid_auto_rows": null,
      "grid_column": null,
      "grid_gap": null,
      "grid_row": null,
      "grid_template_areas": null,
      "grid_template_columns": null,
      "grid_template_rows": null,
      "height": null,
      "justify_content": null,
      "justify_items": null,
      "left": null,
      "margin": null,
      "max_height": null,
      "max_width": null,
      "min_height": null,
      "min_width": null,
      "object_fit": null,
      "object_position": null,
      "order": null,
      "overflow": null,
      "overflow_x": null,
      "overflow_y": null,
      "padding": null,
      "right": null,
      "top": null,
      "visibility": null,
      "width": null
     }
    },
    "6a9f8ff091324f1581297fc28c713047": {
     "model_module": "@jupyter-widgets/controls",
     "model_module_version": "1.5.0",
     "model_name": "HBoxModel",
     "state": {
      "_dom_classes": [],
      "_model_module": "@jupyter-widgets/controls",
      "_model_module_version": "1.5.0",
      "_model_name": "HBoxModel",
      "_view_count": null,
      "_view_module": "@jupyter-widgets/controls",
      "_view_module_version": "1.5.0",
      "_view_name": "HBoxView",
      "box_style": "",
      "children": [
       "IPY_MODEL_e18fc6710ff341d6b80cb93cd6dc5e19",
       "IPY_MODEL_0b927de4df4b4f61bbb10721007fb4f8",
       "IPY_MODEL_74ea1cff7a2d44d08328a714e2cc384f"
      ],
      "layout": "IPY_MODEL_5890090cbebe417dbac772b18440eaa5"
     }
    },
    "713536b27c57438c8e4d193fbc5c4f4c": {
     "model_module": "@jupyter-widgets/base",
     "model_module_version": "1.2.0",
     "model_name": "LayoutModel",
     "state": {
      "_model_module": "@jupyter-widgets/base",
      "_model_module_version": "1.2.0",
      "_model_name": "LayoutModel",
      "_view_count": null,
      "_view_module": "@jupyter-widgets/base",
      "_view_module_version": "1.2.0",
      "_view_name": "LayoutView",
      "align_content": null,
      "align_items": null,
      "align_self": null,
      "border": null,
      "bottom": null,
      "display": null,
      "flex": null,
      "flex_flow": null,
      "grid_area": null,
      "grid_auto_columns": null,
      "grid_auto_flow": null,
      "grid_auto_rows": null,
      "grid_column": null,
      "grid_gap": null,
      "grid_row": null,
      "grid_template_areas": null,
      "grid_template_columns": null,
      "grid_template_rows": null,
      "height": null,
      "justify_content": null,
      "justify_items": null,
      "left": null,
      "margin": null,
      "max_height": null,
      "max_width": null,
      "min_height": null,
      "min_width": null,
      "object_fit": null,
      "object_position": null,
      "order": null,
      "overflow": null,
      "overflow_x": null,
      "overflow_y": null,
      "padding": null,
      "right": null,
      "top": null,
      "visibility": null,
      "width": null
     }
    },
    "74ea1cff7a2d44d08328a714e2cc384f": {
     "model_module": "@jupyter-widgets/controls",
     "model_module_version": "1.5.0",
     "model_name": "HTMLModel",
     "state": {
      "_dom_classes": [],
      "_model_module": "@jupyter-widgets/controls",
      "_model_module_version": "1.5.0",
      "_model_name": "HTMLModel",
      "_view_count": null,
      "_view_module": "@jupyter-widgets/controls",
      "_view_module_version": "1.5.0",
      "_view_name": "HTMLView",
      "description": "",
      "description_tooltip": null,
      "layout": "IPY_MODEL_713536b27c57438c8e4d193fbc5c4f4c",
      "placeholder": "​",
      "style": "IPY_MODEL_8fcd7e3260f2445cbe6d082ed56f0a9d",
      "value": " 32/32 [00:24&lt;00:00,  2.24it/s]"
     }
    },
    "8fcd7e3260f2445cbe6d082ed56f0a9d": {
     "model_module": "@jupyter-widgets/controls",
     "model_module_version": "1.5.0",
     "model_name": "DescriptionStyleModel",
     "state": {
      "_model_module": "@jupyter-widgets/controls",
      "_model_module_version": "1.5.0",
      "_model_name": "DescriptionStyleModel",
      "_view_count": null,
      "_view_module": "@jupyter-widgets/base",
      "_view_module_version": "1.2.0",
      "_view_name": "StyleView",
      "description_width": ""
     }
    },
    "a0dc1d554f2c43869d3f399501d9c689": {
     "model_module": "@jupyter-widgets/controls",
     "model_module_version": "1.5.0",
     "model_name": "ProgressStyleModel",
     "state": {
      "_model_module": "@jupyter-widgets/controls",
      "_model_module_version": "1.5.0",
      "_model_name": "ProgressStyleModel",
      "_view_count": null,
      "_view_module": "@jupyter-widgets/base",
      "_view_module_version": "1.2.0",
      "_view_name": "StyleView",
      "bar_color": null,
      "description_width": ""
     }
    },
    "c9c22815392c47b3860786ad891445ad": {
     "model_module": "@jupyter-widgets/controls",
     "model_module_version": "1.5.0",
     "model_name": "DescriptionStyleModel",
     "state": {
      "_model_module": "@jupyter-widgets/controls",
      "_model_module_version": "1.5.0",
      "_model_name": "DescriptionStyleModel",
      "_view_count": null,
      "_view_module": "@jupyter-widgets/base",
      "_view_module_version": "1.2.0",
      "_view_name": "StyleView",
      "description_width": ""
     }
    },
    "e18fc6710ff341d6b80cb93cd6dc5e19": {
     "model_module": "@jupyter-widgets/controls",
     "model_module_version": "1.5.0",
     "model_name": "HTMLModel",
     "state": {
      "_dom_classes": [],
      "_model_module": "@jupyter-widgets/controls",
      "_model_module_version": "1.5.0",
      "_model_name": "HTMLModel",
      "_view_count": null,
      "_view_module": "@jupyter-widgets/controls",
      "_view_module_version": "1.5.0",
      "_view_name": "HTMLView",
      "description": "",
      "description_tooltip": null,
      "layout": "IPY_MODEL_27c31780e6c24813a0450aa33605b81f",
      "placeholder": "​",
      "style": "IPY_MODEL_c9c22815392c47b3860786ad891445ad",
      "value": "100%"
     }
    }
   }
  }
 },
 "nbformat": 4,
 "nbformat_minor": 4
}
